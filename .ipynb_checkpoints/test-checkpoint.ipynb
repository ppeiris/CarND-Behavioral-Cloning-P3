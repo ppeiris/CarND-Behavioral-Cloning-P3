{
 "cells": [
  {
   "cell_type": "code",
   "execution_count": null,
   "metadata": {},
   "outputs": [],
   "source": [
    "import matplotlib.pyplot as plt\n",
    "fig, ax = plt.subplots()\n",
    "plt.grid(True)\n",
    "plt.yticks(np.arange(0, 1, 0.02))\n",
    "vaccuray_ = [0.0350, 0.0312, 0.0289]\n",
    "taccuray_ = [0.0403, 0.0323, 0.0276]\n",
    "ax.plot(vaccuray_, label='validation')\n",
    "ax.plot(taccuray_, label='test')\n",
    "ax.legend()\n",
    "ax.set_xlabel('Epocs')\n",
    "ax.set_ylabel('Validation/Trining Set Accuracy')"
   ]
  }
 ],
 "metadata": {
  "kernelspec": {
   "display_name": "Python 3",
   "language": "python",
   "name": "python3"
  },
  "language_info": {
   "codemirror_mode": {
    "name": "ipython",
    "version": 3
   },
   "file_extension": ".py",
   "mimetype": "text/x-python",
   "name": "python",
   "nbconvert_exporter": "python",
   "pygments_lexer": "ipython3",
   "version": "3.5.2"
  }
 },
 "nbformat": 4,
 "nbformat_minor": 2
}
